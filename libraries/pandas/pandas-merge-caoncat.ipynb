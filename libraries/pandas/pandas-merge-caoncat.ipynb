{
 "cells": [
  {
   "cell_type": "code",
   "execution_count": 1,
   "id": "4bb5f277-456a-4ce4-ac68-36a7b1ca39b1",
   "metadata": {},
   "outputs": [],
   "source": [
    "import pandas as pd"
   ]
  },
  {
   "cell_type": "code",
   "execution_count": 2,
   "id": "95b01a1f-a3c7-44ff-87b3-5315046786a7",
   "metadata": {},
   "outputs": [],
   "source": [
    "students = pd.DataFrame({\n",
    "    'student_id': [1, 2, 3],\n",
    "    'name': ['Amit', 'Neha', 'Raj']\n",
    "})"
   ]
  },
  {
   "cell_type": "code",
   "execution_count": 4,
   "id": "27878d53-5fc4-4682-915b-c32b95cbd35c",
   "metadata": {},
   "outputs": [],
   "source": [
    "scores = pd.DataFrame({\n",
    "    'student_id': [1, 2, 4],\n",
    "    'score': [85, 90, 78]\n",
    "})"
   ]
  },
  {
   "cell_type": "code",
   "execution_count": 5,
   "id": "780a4d0e-e029-4568-b213-65b2899ad8b5",
   "metadata": {},
   "outputs": [
    {
     "name": "stdout",
     "output_type": "stream",
     "text": [
      "   student_id  name  score\n",
      "0           1  Amit     85\n",
      "1           2  Neha     90\n"
     ]
    }
   ],
   "source": [
    "merged = pd.merge(students, scores, on='student_id', how='inner')\n",
    "print(merged)"
   ]
  },
  {
   "cell_type": "code",
   "execution_count": 6,
   "id": "1db78d24-beb5-40d8-96b7-66909738587f",
   "metadata": {},
   "outputs": [],
   "source": [
    "df1 = pd.DataFrame({'A': ['A0', 'A1'], 'B': ['B0', 'B1']})\n",
    "df2 = pd.DataFrame({'A': ['A2', 'A3'], 'B': ['B2', 'B3']})"
   ]
  },
  {
   "cell_type": "code",
   "execution_count": 7,
   "id": "1346aa6f-d108-45be-a8d6-7029cecad93c",
   "metadata": {},
   "outputs": [
    {
     "name": "stdout",
     "output_type": "stream",
     "text": [
      "    A   B\n",
      "0  A0  B0\n",
      "1  A1  B1\n",
      "0  A2  B2\n",
      "1  A3  B3\n"
     ]
    }
   ],
   "source": [
    "result = pd.concat([df1, df2])\n",
    "print(result)"
   ]
  },
  {
   "cell_type": "code",
   "execution_count": 8,
   "id": "9cf38a74-90cc-448e-9f0d-fb10670a8fa2",
   "metadata": {},
   "outputs": [],
   "source": [
    "data = pd.DataFrame({\n",
    "    'Department': ['IT', 'HR', 'HR', 'IT', 'Sales'],\n",
    "    'Gender': ['M', 'F', 'F', 'F', 'M'],\n",
    "    'Salary': [60000, 50000, 55000, 65000, 70000]\n",
    "})"
   ]
  },
  {
   "cell_type": "code",
   "execution_count": 9,
   "id": "7034a792-15c7-4a74-8e94-dc380d202513",
   "metadata": {},
   "outputs": [
    {
     "name": "stdout",
     "output_type": "stream",
     "text": [
      "Gender            F        M\n",
      "Department                  \n",
      "HR          52500.0      NaN\n",
      "IT          65000.0  60000.0\n",
      "Sales           NaN  70000.0\n"
     ]
    }
   ],
   "source": [
    "pivot = pd.pivot_table(data, values='Salary', index='Department', columns='Gender', aggfunc='mean')\n",
    "print(pivot)"
   ]
  },
  {
   "cell_type": "code",
   "execution_count": null,
   "id": "bd6effbe-e12a-4c28-bf0d-83f0fb88dbce",
   "metadata": {},
   "outputs": [],
   "source": []
  }
 ],
 "metadata": {
  "kernelspec": {
   "display_name": "Python 3 (ipykernel)",
   "language": "python",
   "name": "python3"
  },
  "language_info": {
   "codemirror_mode": {
    "name": "ipython",
    "version": 3
   },
   "file_extension": ".py",
   "mimetype": "text/x-python",
   "name": "python",
   "nbconvert_exporter": "python",
   "pygments_lexer": "ipython3",
   "version": "3.11.6"
  }
 },
 "nbformat": 4,
 "nbformat_minor": 5
}
