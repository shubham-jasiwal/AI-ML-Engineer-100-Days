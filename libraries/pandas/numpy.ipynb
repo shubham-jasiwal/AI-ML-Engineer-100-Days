{
 "cells": [
  {
   "cell_type": "code",
   "execution_count": 1,
   "id": "84ff1c7b-03b8-459d-b8c5-d585bf699cf7",
   "metadata": {},
   "outputs": [],
   "source": [
    "import numpy as np"
   ]
  },
  {
   "cell_type": "code",
   "execution_count": 3,
   "id": "e981dc4a-ca5e-4e6b-b292-2854516f0a16",
   "metadata": {},
   "outputs": [
    {
     "name": "stdout",
     "output_type": "stream",
     "text": [
      "[1 2 3]\n",
      "(3,)\n"
     ]
    }
   ],
   "source": [
    "a = np.array([1, 2, 3])\n",
    "print(a)              \n",
    "print(a.shape)"
   ]
  },
  {
   "cell_type": "code",
   "execution_count": 5,
   "id": "7cceaf1b-8082-4af4-8dbb-a252798cc82b",
   "metadata": {},
   "outputs": [
    {
     "name": "stdout",
     "output_type": "stream",
     "text": [
      "[1 2 3]\n",
      "[[0. 0. 0.]\n",
      " [0. 0. 0.]]\n",
      "[[1. 1.]\n",
      " [1. 1.]\n",
      " [1. 1.]]\n",
      "[0 2 4 6 8]\n"
     ]
    },
    {
     "data": {
      "text/plain": [
       "array([0.  , 0.25, 0.5 , 0.75, 1.  ])"
      ]
     },
     "execution_count": 5,
     "metadata": {},
     "output_type": "execute_result"
    }
   ],
   "source": [
    "print(np.array([1, 2, 3])   )           \n",
    "print(np.zeros((2, 3)) )                 \n",
    "print(np.ones((3, 2)))\n",
    "print(np.arange(0, 10, 2)   )            \n",
    "np.linspace(0, 1, 5)"
   ]
  },
  {
   "cell_type": "code",
   "execution_count": 8,
   "id": "52b1e724-6c24-4561-b36a-52318edf9c49",
   "metadata": {},
   "outputs": [
    {
     "name": "stdout",
     "output_type": "stream",
     "text": [
      "[0 1 2 3 4 5]\n",
      "[[0 1 2]\n",
      " [3 4 5]]\n",
      "1\n",
      "(6,)\n"
     ]
    }
   ],
   "source": [
    "a = np.arange(6)\n",
    "print(a)\n",
    "print(a.reshape((2, 3)))\n",
    "print(a.ndim)\n",
    "print(a.shape)"
   ]
  },
  {
   "cell_type": "code",
   "execution_count": 9,
   "id": "ddc65c7b-23a9-4e2f-a9fb-a8cc7895cb82",
   "metadata": {},
   "outputs": [
    {
     "name": "stdout",
     "output_type": "stream",
     "text": [
      "2 [2 4 6] [[3 4]\n",
      " [5 6]]\n"
     ]
    }
   ],
   "source": [
    "a = np.array([[1, 2], [3, 4], [5, 6]])\n",
    "print(a[0, 1],   \n",
    "a[:, 1],      \n",
    "a[1:3] )     "
   ]
  },
  {
   "cell_type": "code",
   "execution_count": 10,
   "id": "d5e8fb6c-359c-4059-81a0-29389ddaa4d7",
   "metadata": {},
   "outputs": [
    {
     "name": "stdout",
     "output_type": "stream",
     "text": [
      "a + b = [11 22 33]\n",
      "a * 2 = [2 4 6]\n",
      "a ** 2 = [1 4 9]\n",
      "sqrt(a) = [1.         1.41421356 1.73205081]\n"
     ]
    }
   ],
   "source": [
    "a = np.array([1, 2, 3])\n",
    "b = np.array([10, 20, 30])\n",
    "\n",
    "print(\"a + b =\", a + b)             \n",
    "print(\"a * 2 =\", a * 2)           \n",
    "print(\"a ** 2 =\", a ** 2)          \n",
    "print(\"sqrt(a) =\", np.sqrt(a))   "
   ]
  },
  {
   "cell_type": "code",
   "execution_count": 11,
   "id": "9c89be74-b652-4b8c-b473-54788a9971fc",
   "metadata": {},
   "outputs": [
    {
     "name": "stdout",
     "output_type": "stream",
     "text": [
      "[[19 22]\n",
      " [43 50]]\n"
     ]
    },
    {
     "data": {
      "text/plain": [
       "array([[19, 22],\n",
       "       [43, 50]])"
      ]
     },
     "execution_count": 11,
     "metadata": {},
     "output_type": "execute_result"
    }
   ],
   "source": [
    "a = np.array([[1, 2], [3, 4]])\n",
    "b = np.array([[5, 6], [7, 8]])\n",
    "\n",
    "print(np.dot(a, b))\n",
    "a @ b              "
   ]
  },
  {
   "cell_type": "code",
   "execution_count": 12,
   "id": "d8c403b9-e2ff-4b24-8b1b-07691f9ce391",
   "metadata": {},
   "outputs": [
    {
     "data": {
      "text/plain": [
       "array([15, 20])"
      ]
     },
     "execution_count": 12,
     "metadata": {},
     "output_type": "execute_result"
    }
   ],
   "source": [
    "a = np.array([5, 10, 15, 20])\n",
    "a[a > 10]    \n"
   ]
  },
  {
   "cell_type": "code",
   "execution_count": 13,
   "id": "b36581b4-1286-4fa0-ad7a-522e28f03d6c",
   "metadata": {},
   "outputs": [
    {
     "name": "stdout",
     "output_type": "stream",
     "text": [
      "[[0.53826346 0.47193073 0.02499026]\n",
      " [0.22731143 0.93250046 0.72909821]]\n",
      "30\n",
      "None\n"
     ]
    }
   ],
   "source": [
    "print(np.random.rand(2, 3))       \n",
    "print(np.random.randint(1, 100))  \n",
    "print(np.random.seed(42))          \n"
   ]
  },
  {
   "cell_type": "code",
   "execution_count": 14,
   "id": "0841bba9-0677-451b-9dc0-d292acd333ed",
   "metadata": {},
   "outputs": [
    {
     "name": "stdout",
     "output_type": "stream",
     "text": [
      "21\n",
      "3.5\n",
      "[4 5 6]\n"
     ]
    },
    {
     "data": {
      "text/plain": [
       "array([1, 4])"
      ]
     },
     "execution_count": 14,
     "metadata": {},
     "output_type": "execute_result"
    }
   ],
   "source": [
    "a = np.array([[1, 2, 3], [4, 5, 6]])\n",
    "\n",
    "print(a.sum())          \n",
    "print(a.mean())        \n",
    "print(a.max(axis=0))     \n",
    "a.min(axis=1)     \n"
   ]
  },
  {
   "cell_type": "code",
   "execution_count": null,
   "id": "d4999856-f56c-4cc6-bc9f-f79e9552e7e0",
   "metadata": {},
   "outputs": [],
   "source": []
  }
 ],
 "metadata": {
  "kernelspec": {
   "display_name": "Python 3 (ipykernel)",
   "language": "python",
   "name": "python3"
  },
  "language_info": {
   "codemirror_mode": {
    "name": "ipython",
    "version": 3
   },
   "file_extension": ".py",
   "mimetype": "text/x-python",
   "name": "python",
   "nbconvert_exporter": "python",
   "pygments_lexer": "ipython3",
   "version": "3.11.6"
  }
 },
 "nbformat": 4,
 "nbformat_minor": 5
}
