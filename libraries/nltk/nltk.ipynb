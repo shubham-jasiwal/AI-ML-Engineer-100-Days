{
 "cells": [
  {
   "cell_type": "code",
   "execution_count": 3,
   "id": "50722408-249b-4e7f-876d-c9cba704c750",
   "metadata": {},
   "outputs": [],
   "source": [
    "import nltk"
   ]
  },
  {
   "cell_type": "code",
   "execution_count": 6,
   "id": "b518134b-8303-48d9-a19c-c7a5e615b819",
   "metadata": {},
   "outputs": [
    {
     "name": "stdout",
     "output_type": "stream",
     "text": [
      "['Fifty up for Jacob Bethell.', 'Short, on off, Jacob Bethell\\xa0pulls it through mid-wicket for one.', 'England beat New Zealand by 8 wickets!']\n",
      "['Fifty', 'up', 'for', 'Jacob', 'Bethell', '.', 'Short', ',', 'on', 'off', ',', 'Jacob', 'Bethell', 'pulls', 'it', 'through', 'mid-wicket', 'for', 'one', '.', 'England', 'beat', 'New', 'Zealand', 'by', '8', 'wickets', '!']\n"
     ]
    }
   ],
   "source": [
    "from nltk.tokenize import sent_tokenize, word_tokenize\n",
    "\n",
    "text = \"Fifty up for Jacob Bethell. Short, on off, Jacob Bethell\\u00a0pulls it through mid-wicket for one.\\u00a0England beat New Zealand by 8 wickets!\"\n",
    "print(sent_tokenize(text))\n",
    "print(word_tokenize(text))\n"
   ]
  },
  {
   "cell_type": "code",
   "execution_count": 7,
   "id": "7a3b3c28-2a0b-4985-bd28-5e741aff9208",
   "metadata": {},
   "outputs": [
    {
     "name": "stdout",
     "output_type": "stream",
     "text": [
      "['Fifty', 'Jacob', 'Bethell', '.', 'Short', ',', ',', 'Jacob', 'Bethell', 'pulls', 'mid-wicket', 'one', '.', 'England', 'beat', 'New', 'Zealand', '8', 'wickets', '!']\n"
     ]
    }
   ],
   "source": [
    "from nltk.corpus import stopwords\n",
    "from nltk.tokenize import word_tokenize\n",
    "\n",
    "text = \"Fifty up for Jacob Bethell. Short, on off, Jacob Bethell\\u00a0pulls it through mid-wicket for one.\\u00a0England beat New Zealand by 8 wickets!\"\n",
    "words = word_tokenize(text)\n",
    "filtered = [w for w in words if w.lower() not in stopwords.words('english')]\n",
    "print(filtered)\n"
   ]
  },
  {
   "cell_type": "code",
   "execution_count": 8,
   "id": "590c64b3-57d2-4322-b732-6909dcc5ebd5",
   "metadata": {},
   "outputs": [
    {
     "name": "stdout",
     "output_type": "stream",
     "text": [
      "running -> run\n",
      "runner -> runner\n",
      "easily -> easili\n",
      "fairly -> fairli\n"
     ]
    }
   ],
   "source": [
    "from nltk.stem import PorterStemmer\n",
    "\n",
    "stemmer = PorterStemmer()\n",
    "words = [\"running\", \"runner\", \"easily\", \"fairly\"]\n",
    "for w in words:\n",
    "    print(w, \"->\", stemmer.stem(w))"
   ]
  },
  {
   "cell_type": "code",
   "execution_count": 9,
   "id": "fddd42de-1cc5-443c-b558-c27b7b5597be",
   "metadata": {},
   "outputs": [
    {
     "name": "stdout",
     "output_type": "stream",
     "text": [
      "run\n",
      "good\n"
     ]
    }
   ],
   "source": [
    "from nltk.stem import WordNetLemmatizer\n",
    "\n",
    "lemmatizer = WordNetLemmatizer()\n",
    "print(lemmatizer.lemmatize(\"running\", pos='v'))\n",
    "print(lemmatizer.lemmatize(\"better\", pos='a'))\n"
   ]
  },
  {
   "cell_type": "code",
   "execution_count": 16,
   "id": "1e638ffe-7693-4f30-9a65-6979459cebb1",
   "metadata": {},
   "outputs": [
    {
     "name": "stdout",
     "output_type": "stream",
     "text": [
      "['Fifty', 'up', 'for', 'Jacob', 'Bethell', '.', 'Short', ',', 'on', 'off', ',', 'Jacob', 'Bethell', 'pulls', 'it', 'through', 'mid-wicket', 'for', 'one', '.', 'England', 'beat', 'New', 'Zealand', 'by', '8', 'wickets', '!']\n",
      "[('Fifty', 'NNP'), ('up', 'RP'), ('for', 'IN'), ('Jacob', 'NNP'), ('Bethell', 'NNP'), ('.', '.'), ('Short', 'NNP'), (',', ','), ('on', 'IN'), ('off', 'IN'), (',', ','), ('Jacob', 'NNP'), ('Bethell', 'NNP'), ('pulls', 'VBZ'), ('it', 'PRP'), ('through', 'IN'), ('mid-wicket', 'NN'), ('for', 'IN'), ('one', 'CD'), ('.', '.'), ('England', 'NNP'), ('beat', 'VBD'), ('New', 'NNP'), ('Zealand', 'NNP'), ('by', 'IN'), ('8', 'CD'), ('wickets', 'NNS'), ('!', '.')]\n",
      "(S\n",
      "  (GPE Fifty/NNP)\n",
      "  up/RP\n",
      "  for/IN\n",
      "  (PERSON Jacob/NNP Bethell/NNP)\n",
      "  ./.\n",
      "  (PERSON Short/NNP)\n",
      "  ,/,\n",
      "  on/IN\n",
      "  off/IN\n",
      "  ,/,\n",
      "  (PERSON Jacob/NNP Bethell/NNP)\n",
      "  pulls/VBZ\n",
      "  it/PRP\n",
      "  through/IN\n",
      "  mid-wicket/NN\n",
      "  for/IN\n",
      "  one/CD\n",
      "  ./.\n",
      "  (PERSON England/NNP)\n",
      "  beat/VBD\n",
      "  (GPE New/NNP Zealand/NNP)\n",
      "  by/IN\n",
      "  8/CD\n",
      "  wickets/NNS\n",
      "  !/.)\n"
     ]
    }
   ],
   "source": [
    "from nltk import pos_tag, ne_chunk\n",
    "from nltk.tokenize import word_tokenize\n",
    "import nltk\n",
    "\n",
    "\n",
    "tokens = word_tokenize(text)\n",
    "print(tokens)\n",
    "tags = pos_tag(tokens)\n",
    "print(tags)\n",
    "tree = ne_chunk(tags)\n",
    "print(tree)"
   ]
  },
  {
   "cell_type": "code",
   "execution_count": 17,
   "id": "61a65dfa-2c6d-4569-b3ff-1497303d98c8",
   "metadata": {},
   "outputs": [
    {
     "name": "stdout",
     "output_type": "stream",
     "text": [
      "(S (NP a/DT big/JJ house/NN))\n"
     ]
    }
   ],
   "source": [
    "grammar = \"NP: {<DT>?<JJ>*<NN>}\"\n",
    "parser = nltk.RegexpParser(grammar)\n",
    "sentence = [(\"a\", \"DT\"), (\"big\", \"JJ\"), (\"house\", \"NN\")]\n",
    "print(parser.parse(sentence))\n"
   ]
  },
  {
   "cell_type": "code",
   "execution_count": 18,
   "id": "6c62becb-6841-4adc-abe5-5789b8ea5113",
   "metadata": {},
   "outputs": [
    {
     "name": "stdout",
     "output_type": "stream",
     "text": [
      "Synonyms: ['good', 'good', 'good', 'commodity', 'good', 'full', 'good', 'estimable', 'beneficial', 'good', 'good', 'adept', 'good', 'dear', 'dependable', 'good', 'good', 'effective', 'good', 'good', 'good', 'good', 'good', 'good', 'good', 'well', 'thoroughly']\n",
      "Definition: benefit\n",
      "Example: ['for your own good', \"what's the good of worrying?\"]\n"
     ]
    }
   ],
   "source": [
    "from nltk.corpus import wordnet\n",
    "\n",
    "syns = wordnet.synsets(\"good\")\n",
    "print(\"Synonyms:\", [s.lemmas()[0].name() for s in syns])\n",
    "print(\"Definition:\", syns[0].definition())\n",
    "print(\"Example:\", syns[0].examples())\n"
   ]
  },
  {
   "cell_type": "code",
   "execution_count": 19,
   "id": "166c9b81-050b-4920-9883-7b37232b72bf",
   "metadata": {},
   "outputs": [
    {
     "name": "stdout",
     "output_type": "stream",
     "text": [
      "[('This', 'is'), ('a', 'sample'), ('collocations', '.'), ('high', 'school'), ('is', 'a')]\n"
     ]
    }
   ],
   "source": [
    "from nltk.collocations import BigramCollocationFinder\n",
    "from nltk.metrics import BigramAssocMeasures\n",
    "\n",
    "words = word_tokenize(\"This is a sample sentence to test high school collocations.\")\n",
    "finder = BigramCollocationFinder.from_words(words)\n",
    "print(finder.nbest(BigramAssocMeasures.likelihood_ratio, 5))\n"
   ]
  },
  {
   "cell_type": "code",
   "execution_count": 20,
   "id": "a164483d-3dab-43c1-b182-573736103f78",
   "metadata": {},
   "outputs": [
    {
     "name": "stdout",
     "output_type": "stream",
     "text": [
      "(S\n",
      "  (NP The/DT big/JJ red/JJ apple/NN)\n",
      "  fell/VBD\n",
      "  from/IN\n",
      "  (NP the/DT tree/NN)\n",
      "  ./.)\n"
     ]
    }
   ],
   "source": [
    "import nltk\n",
    "from nltk import word_tokenize, pos_tag, RegexpParser\n",
    "\n",
    "text = \"The big red apple fell from the tree.\"\n",
    "\n",
    "# Tokenize and POS Tag\n",
    "tokens = word_tokenize(text)\n",
    "tags = pos_tag(tokens)\n",
    "\n",
    "# Define a chunk grammar (NP = Noun Phrase)\n",
    "chunk_grammar = r\"NP: {<DT>?<JJ>*<NN>}\"\n",
    "chunk_parser = RegexpParser(chunk_grammar)\n",
    "\n",
    "# Parse\n",
    "chunk_tree = chunk_parser.parse(tags)\n",
    "print(chunk_tree)\n"
   ]
  },
  {
   "cell_type": "code",
   "execution_count": 21,
   "id": "b4179ebe-d6d3-4899-892b-3c28b8fe9000",
   "metadata": {},
   "outputs": [
    {
     "name": "stdout",
     "output_type": "stream",
     "text": [
      "['Scores are level now!', 'Short and wide, Jacob Bethell\\xa0slaps it through backward point for a brace.', 'He moves to 49 now!']\n",
      "['Scores', 'are', 'level', 'now', '!', 'Short', 'and', 'wide', ',', 'Jacob', 'Bethell', 'slaps', 'it', 'through', 'backward', 'point', 'for', 'a', 'brace', '.', 'He', 'moves', 'to', '49', 'now', '!']\n"
     ]
    }
   ],
   "source": [
    "comm = \"Scores are level now! Short and wide, Jacob Bethell\\u00a0slaps it through backward point for a brace. He moves to 49 now!\"\n",
    "print(sent_tokenize(comm))\n",
    "print(word_tokenize(comm))"
   ]
  },
  {
   "cell_type": "code",
   "execution_count": 22,
   "id": "8c19a1d1-e2a1-4eaf-abe0-ad7f8272dead",
   "metadata": {},
   "outputs": [
    {
     "name": "stdout",
     "output_type": "stream",
     "text": [
      "['SIX!', 'All the way!', 'Shorter one from Nathan Smith, on middle and leg, Jacob Bethell\\xa0swivels and pulls it magnificently over deep square leg as the ball sails into the stands.']\n",
      "['SIX', '!', 'All', 'the', 'way', '!', 'Shorter', 'one', 'from', 'Nathan', 'Smith', ',', 'on', 'middle', 'and', 'leg', ',', 'Jacob', 'Bethell', 'swivels', 'and', 'pulls', 'it', 'magnificently', 'over', 'deep', 'square', 'leg', 'as', 'the', 'ball', 'sails', 'into', 'the', 'stands', '.']\n"
     ]
    }
   ],
   "source": [
    "comm1=\"SIX! All the way! Shorter one from Nathan Smith, on middle and leg, Jacob Bethell\\u00a0swivels and pulls it magnificently over deep square leg as the ball sails into the stands.\"\n",
    "print(sent_tokenize(comm1))\n",
    "print(word_tokenize(comm1))"
   ]
  },
  {
   "cell_type": "code",
   "execution_count": null,
   "id": "2f3bed4a-cd72-4be7-97b8-9eb671fbd6b4",
   "metadata": {},
   "outputs": [],
   "source": []
  }
 ],
 "metadata": {
  "kernelspec": {
   "display_name": "Python 3 (ipykernel)",
   "language": "python",
   "name": "python3"
  },
  "language_info": {
   "codemirror_mode": {
    "name": "ipython",
    "version": 3
   },
   "file_extension": ".py",
   "mimetype": "text/x-python",
   "name": "python",
   "nbconvert_exporter": "python",
   "pygments_lexer": "ipython3",
   "version": "3.11.6"
  }
 },
 "nbformat": 4,
 "nbformat_minor": 5
}
